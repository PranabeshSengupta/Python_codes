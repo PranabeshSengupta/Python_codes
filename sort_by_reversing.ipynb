{
 "cells": [
  {
   "cell_type": "code",
   "execution_count": 3,
   "id": "54d52240-0a12-419a-b4bf-c425efd77c70",
   "metadata": {},
   "outputs": [
    {
     "name": "stdout",
     "output_type": "stream",
     "text": [
      "True\n",
      "False\n"
     ]
    }
   ],
   "source": [
    "def can_sort_by_reversing(arr):\n",
    "    n = len(arr)\n",
    "    \n",
    "    # Step 1: Find the first index where the array is unsorted\n",
    "    left = 0\n",
    "    while left < n - 1 and arr[left] <= arr[left + 1]:\n",
    "        left += 1\n",
    "    \n",
    "    # If array is already sorted\n",
    "    if left == n - 1:\n",
    "        return True\n",
    "\n",
    "    # Step 2: Find the last index where the array is unsorted\n",
    "    right = n - 1\n",
    "    while right > 0 and arr[right] >= arr[right - 1]:\n",
    "        right -= 1\n",
    "    \n",
    "    # Step 3: Reverse the sub-array from left to right\n",
    "    subarray = arr[left:right+1]\n",
    "    subarray.reverse()\n",
    "\n",
    "    # Step 4: Check if reversing the sub-array makes the whole array sorted\n",
    "    new_array = arr[:left] + subarray + arr[right+1:]\n",
    "    \n",
    "    return new_array == sorted(arr)\n",
    "\n",
    "# Test cases\n",
    "arr1 = [1, 2, 5, 4, 3, 6]  # Reverse sub-array [5, 4, 3]\n",
    "arr2 = [1, 3, 5, 4, 2, 6]  # No sub-array reversing will make it sorted\n",
    "arr3 = [3, 2, 1]           # Reverse entire array [3, 2, 1]\n",
    "\n",
    "print(can_sort_by_reversing(arr1))  # Output: True\n",
    "print(can_sort_by_reversing(arr2))  # Output: False\n",
    "#print(can_sort_by_reversing(arr3)) # Output: True"
   ]
  },
  {
   "cell_type": "code",
   "execution_count": null,
   "id": "34179b9d-03f2-4885-8183-310703030e4b",
   "metadata": {},
   "outputs": [],
   "source": []
  }
 ],
 "metadata": {
  "kernelspec": {
   "display_name": "Python 3 (ipykernel)",
   "language": "python",
   "name": "python3"
  },
  "language_info": {
   "codemirror_mode": {
    "name": "ipython",
    "version": 3
   },
   "file_extension": ".py",
   "mimetype": "text/x-python",
   "name": "python",
   "nbconvert_exporter": "python",
   "pygments_lexer": "ipython3",
   "version": "3.12.4"
  }
 },
 "nbformat": 4,
 "nbformat_minor": 5
}
