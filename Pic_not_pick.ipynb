{
 "cells": [
  {
   "cell_type": "code",
   "execution_count": 13,
   "id": "c48fb76b-2bb1-44f2-9f05-0c72b99c4ea2",
   "metadata": {},
   "outputs": [
    {
     "name": "stdout",
     "output_type": "stream",
     "text": [
      "{1: 1, 5: 1, 7: 1, 8: 1, 10: 1, 15: 2, 17: 2, 20: 2}\n",
      "Length of the longest subsequence: 2\n"
     ]
    }
   ],
   "source": [
    "\n",
    "# Explanation:\n",
    "\n",
    "# 1. *Initialization:* We use a dictionary dp to store the length of the longest subsequence that ends with each element.\n",
    "                      #We also initialize max_length to keep track of the overall maximum length of such a subsequence.\n",
    "\n",
    "# 2. *Iterating through the array:* For each element in the array, we check all previous elements. \n",
    "                            #If the difference between the current element and a previous element is divisible by k,\n",
    "                            #we update the length of the longest subsequence that ends with the current element.\n",
    "\n",
    "# 3. *Updating the maximum length:* After processing each element, we update the max_length with the current longest subsequence \n",
    "                                   #ending with that element.\n",
    "\n",
    "# 4. *Return the result:* Finally, return the max_length which gives us the length of the longest subsequence where \n",
    "                         #the difference between every consecutive element is divisible by k.\n",
    "\n",
    "def longestSubsequence(arr, N, k):\n",
    "    # Initialize a dictionary to store the length of the longest subsequence\n",
    "    # ending at each element\n",
    "    dp = {}\n",
    "    \n",
    "    # Initialize the maximum length of subsequence\n",
    "    max_length = 1\n",
    "    \n",
    "    for i in range(N):\n",
    "        # If arr[i] is not in dp, initialize it with 1\n",
    "        if arr[i] not in dp:\n",
    "            dp[arr[i]] = 1\n",
    "            \n",
    "        # Check all previous elements\n",
    "        for j in range(i):\n",
    "            # If the difference is divisible by k\n",
    "            if (arr[i] - arr[j]) % k == 0:\n",
    "                # Update dp[arr[i]] to the maximum value between current dp[arr[i]]\n",
    "                # and dp[arr[j]] + 1\n",
    "                dp[arr[i]] = max(dp[arr[i]], dp[arr[j]] + 1)\n",
    "                \n",
    "        # Update the maximum length\n",
    "        max_length = max(max_length, dp[arr[i]])\n",
    "    print(dp)\n",
    "    return max_length\n",
    "  \n",
    "\n",
    "# Example usage:\n",
    "arr = [1, 5, 7, 8, 10, 15, 17, 20]\n",
    "N = len(arr)\n",
    "k = 10\n",
    "\n",
    "print(\"Length of the longest subsequence:\", longestSubsequence(arr, N, k))"
   ]
  },
  {
   "cell_type": "code",
   "execution_count": null,
   "id": "7e9e2256-ad13-405d-8466-cb7d24da11a2",
   "metadata": {},
   "outputs": [],
   "source": []
  }
 ],
 "metadata": {
  "kernelspec": {
   "display_name": "Python 3 (ipykernel)",
   "language": "python",
   "name": "python3"
  },
  "language_info": {
   "codemirror_mode": {
    "name": "ipython",
    "version": 3
   },
   "file_extension": ".py",
   "mimetype": "text/x-python",
   "name": "python",
   "nbconvert_exporter": "python",
   "pygments_lexer": "ipython3",
   "version": "3.12.4"
  }
 },
 "nbformat": 4,
 "nbformat_minor": 5
}
