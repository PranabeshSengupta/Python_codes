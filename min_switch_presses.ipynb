{
 "cells": [
  {
   "cell_type": "code",
   "execution_count": 3,
   "id": "ff481347-109a-4320-9b6d-39d964e4d203",
   "metadata": {},
   "outputs": [
    {
     "name": "stdout",
     "output_type": "stream",
     "text": [
      "2\n"
     ]
    }
   ],
   "source": [
    "def min_switch_presses(bulbs):\n",
    "    n = len(bulbs)\n",
    "    presses = 0\n",
    "    toggle = 0  # To track the effect of previous presses\n",
    "    \n",
    "    for i in range(n):\n",
    "        # If toggle is odd, the bulb state is flipped\n",
    "        if (bulbs[i] + toggle) % 2 == 0:\n",
    "            # The current bulb is off, so press the switch\n",
    "            presses += 1\n",
    "            toggle += 1  # Toggle the rest of the bulbs\n",
    "            \n",
    "    return presses\n",
    "\n",
    "# Example usage:\n",
    "bulbs = [0, 1, 1, 1]  # 0 means off, 1 means on\n",
    "print(min_switch_presses(bulbs))"
   ]
  },
  {
   "cell_type": "code",
   "execution_count": null,
   "id": "d57350aa-24d6-4dda-b2c1-0e5b8974917c",
   "metadata": {},
   "outputs": [],
   "source": []
  }
 ],
 "metadata": {
  "kernelspec": {
   "display_name": "Python 3 (ipykernel)",
   "language": "python",
   "name": "python3"
  },
  "language_info": {
   "codemirror_mode": {
    "name": "ipython",
    "version": 3
   },
   "file_extension": ".py",
   "mimetype": "text/x-python",
   "name": "python",
   "nbconvert_exporter": "python",
   "pygments_lexer": "ipython3",
   "version": "3.12.4"
  }
 },
 "nbformat": 4,
 "nbformat_minor": 5
}
