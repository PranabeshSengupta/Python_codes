{
 "cells": [
  {
   "cell_type": "code",
   "execution_count": 3,
   "id": "2552f31c-624e-4e8b-a47d-b2de11e20d37",
   "metadata": {},
   "outputs": [
    {
     "name": "stdin",
     "output_type": "stream",
     "text": [
      "Enter your sentence ki ki ki ki iiiii\n",
      "Enter your gap 3\n"
     ]
    },
    {
     "name": "stdout",
     "output_type": "stream",
     "text": [
      "ki ki ki\n"
     ]
    }
   ],
   "source": [
    "def sub_sen(sen,gap):\n",
    "    count=0\n",
    "    for i in range(len(sen)):\n",
    "        if sen[i]==' ':\n",
    "            count+=1\n",
    "            if count==gap:\n",
    "                return sen[:i]\n",
    "sen=input(\"Enter your sentence\")\n",
    "gap=int(input(\"Enter your gap\"))\n",
    "x=sub_sen(sen,gap)\n",
    "print(x)\n",
    "# Enter your sentence my name is raja\n",
    "# Enter your gap 3\n",
    "# my name is\n",
    "    "
   ]
  },
  {
   "cell_type": "code",
   "execution_count": null,
   "id": "aea643ad-339e-4724-9d2a-974965c8c03f",
   "metadata": {},
   "outputs": [],
   "source": []
  }
 ],
 "metadata": {
  "kernelspec": {
   "display_name": "Python 3 (ipykernel)",
   "language": "python",
   "name": "python3"
  },
  "language_info": {
   "codemirror_mode": {
    "name": "ipython",
    "version": 3
   },
   "file_extension": ".py",
   "mimetype": "text/x-python",
   "name": "python",
   "nbconvert_exporter": "python",
   "pygments_lexer": "ipython3",
   "version": "3.12.4"
  }
 },
 "nbformat": 4,
 "nbformat_minor": 5
}
