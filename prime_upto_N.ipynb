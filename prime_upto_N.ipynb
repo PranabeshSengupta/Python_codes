{
 "cells": [
  {
   "cell_type": "code",
   "execution_count": 1,
   "id": "21766d5d-4cfc-48c6-b06d-4385dd01c70d",
   "metadata": {},
   "outputs": [
    {
     "name": "stdout",
     "output_type": "stream",
     "text": [
      "Prime numbers up to 50: [2, 3, 5, 7, 11, 13, 17, 19, 23, 29, 31, 37, 41, 43, 47]\n"
     ]
    }
   ],
   "source": [
    "def sieve_of_eratosthenes(N):\n",
    "    # Initialize a boolean array of True values\n",
    "    primes = [True] * (N + 1)\n",
    "    p = 2  # Start with the first prime number\n",
    "    \n",
    "    while (p * p <= N):\n",
    "        # If primes[p] is still True, it's a prime\n",
    "        if primes[p] == True:\n",
    "            # Mark all multiples of p as False (not prime)\n",
    "            for i in range(p * p, N + 1, p):\n",
    "                primes[i] = False\n",
    "        p += 1\n",
    "\n",
    "    # Collect all prime numbers\n",
    "    prime_numbers = [p for p in range(2, N + 1) if primes[p]]\n",
    "    return prime_numbers\n",
    "\n",
    "# Example usage:\n",
    "N = 50\n",
    "print(f\"Prime numbers up to {N}: {sieve_of_eratosthenes(N)}\")"
   ]
  },
  {
   "cell_type": "code",
   "execution_count": null,
   "id": "f77afbbc-08d4-4589-a0cd-74f65402442a",
   "metadata": {},
   "outputs": [],
   "source": []
  }
 ],
 "metadata": {
  "kernelspec": {
   "display_name": "Python 3 (ipykernel)",
   "language": "python",
   "name": "python3"
  },
  "language_info": {
   "codemirror_mode": {
    "name": "ipython",
    "version": 3
   },
   "file_extension": ".py",
   "mimetype": "text/x-python",
   "name": "python",
   "nbconvert_exporter": "python",
   "pygments_lexer": "ipython3",
   "version": "3.12.4"
  }
 },
 "nbformat": 4,
 "nbformat_minor": 5
}
