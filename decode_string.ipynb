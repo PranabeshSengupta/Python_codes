{
 "cells": [
  {
   "cell_type": "code",
   "execution_count": 7,
   "id": "b7b1ba5a-2d6b-49e0-8585-416dd4599234",
   "metadata": {},
   "outputs": [
    {
     "name": "stdin",
     "output_type": "stream",
     "text": [
      "Enter your string  1011111011\n"
     ]
    },
    {
     "ename": "TypeError",
     "evalue": "can only concatenate str (not \"int\") to str",
     "output_type": "error",
     "traceback": [
      "\u001b[1;31m---------------------------------------------------------------------------\u001b[0m",
      "\u001b[1;31mTypeError\u001b[0m                                 Traceback (most recent call last)",
      "Cell \u001b[1;32mIn[7], line 14\u001b[0m\n\u001b[0;32m     12\u001b[0m     \u001b[38;5;28;01mreturn\u001b[39;00m ans\n\u001b[0;32m     13\u001b[0m s\u001b[38;5;241m=\u001b[39m\u001b[38;5;28minput\u001b[39m(\u001b[38;5;124m\"\u001b[39m\u001b[38;5;124mEnter your string \u001b[39m\u001b[38;5;124m\"\u001b[39m)\n\u001b[1;32m---> 14\u001b[0m res\u001b[38;5;241m=\u001b[39mdecode_string(s)\n\u001b[0;32m     15\u001b[0m \u001b[38;5;28mprint\u001b[39m(res)\n",
      "Cell \u001b[1;32mIn[7], line 9\u001b[0m, in \u001b[0;36mdecode_string\u001b[1;34m(s)\u001b[0m\n\u001b[0;32m      7\u001b[0m         count\u001b[38;5;241m+\u001b[39m\u001b[38;5;241m=\u001b[39m\u001b[38;5;241m1\u001b[39m\n\u001b[0;32m      8\u001b[0m     \u001b[38;5;28;01melse\u001b[39;00m:\n\u001b[1;32m----> 9\u001b[0m         ans\u001b[38;5;241m+\u001b[39m\u001b[38;5;241m=\u001b[39m\u001b[38;5;124m'\u001b[39m\u001b[38;5;124mA\u001b[39m\u001b[38;5;124m'\u001b[39m\u001b[38;5;241m+\u001b[39mcount\u001b[38;5;241m-\u001b[39m\u001b[38;5;241m1\u001b[39m\n\u001b[0;32m     10\u001b[0m         count\u001b[38;5;241m=\u001b[39m\u001b[38;5;241m0\u001b[39m\n\u001b[0;32m     11\u001b[0m ans\u001b[38;5;241m+\u001b[39m\u001b[38;5;241m=\u001b[39m\u001b[38;5;124m'\u001b[39m\u001b[38;5;124mA\u001b[39m\u001b[38;5;124m'\u001b[39m\u001b[38;5;241m+\u001b[39mcount\u001b[38;5;241m-\u001b[39m\u001b[38;5;241m1\u001b[39m\n",
      "\u001b[1;31mTypeError\u001b[0m: can only concatenate str (not \"int\") to str"
     ]
    }
   ],
   "source": [
    "def decode_string(encoded):\n",
    "    # Create a mapping of sequences of `1`s to uppercase letters\n",
    "    mapping = {}\n",
    "    for i in range(26):  # There are 26 uppercase letters\n",
    "        letter = chr(ord('A') + i)  # Convert index to corresponding letter\n",
    "        ones_sequence = '1' * (i + 1)  # Create the sequence of `1`s\n",
    "        mapping[ones_sequence] = letter\n",
    "    \n",
    "    # Initialize variables for decoding\n",
    "    decoded_word = \"\"\n",
    "    current_sequence = \"\"\n",
    "    \n",
    "    # Iterate through the encoded string\n",
    "    for char in encoded:\n",
    "        if char == '1':\n",
    "            current_sequence += '1'\n",
    "        else:\n",
    "            if current_sequence:\n",
    "                # Look up the sequence in the mapping and append the letter to the result\n",
    "                if current_sequence in mapping:\n",
    "                    decoded_word += mapping[current_sequence]\n",
    "                current_sequence = \"\"\n",
    "    \n",
    "    # Don't forget to add the last sequence if the string ends with '1's\n",
    "    if current_sequence:\n",
    "        if current_sequence in mapping:\n",
    "            decoded_word += mapping[current_sequence]\n",
    "    \n",
    "    return decoded_word\n",
    "\n",
    "# Example usage:\n",
    "encoded = '111011110111'  # This is an example encoded string\n",
    "print(\"Decoded Word:\", decode_string(encoded))\n"
   ]
  },
  {
   "cell_type": "code",
   "execution_count": null,
   "id": "d674e542-2c44-4c39-9bbf-1ff89e80d896",
   "metadata": {},
   "outputs": [],
   "source": []
  }
 ],
 "metadata": {
  "kernelspec": {
   "display_name": "Python 3 (ipykernel)",
   "language": "python",
   "name": "python3"
  },
  "language_info": {
   "codemirror_mode": {
    "name": "ipython",
    "version": 3
   },
   "file_extension": ".py",
   "mimetype": "text/x-python",
   "name": "python",
   "nbconvert_exporter": "python",
   "pygments_lexer": "ipython3",
   "version": "3.12.4"
  }
 },
 "nbformat": 4,
 "nbformat_minor": 5
}
