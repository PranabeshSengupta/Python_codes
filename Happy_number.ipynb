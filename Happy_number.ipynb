{
 "cells": [
  {
   "cell_type": "code",
   "execution_count": 35,
   "id": "a56b87f6-a56e-4cc9-99a8-3622afbc10c3",
   "metadata": {},
   "outputs": [
    {
     "name": "stdout",
     "output_type": "stream",
     "text": [
      "13 is a Happy number\n"
     ]
    }
   ],
   "source": [
    "# Python3 program to check if a number is a Happy number or not\n",
    "\n",
    "# Utility method to return the sum of squares of digits of n\n",
    "def num_square_sum(n):\n",
    "    square_sum = 0\n",
    "    while n:\n",
    "        square_sum += (n % 10) ** 2\n",
    "        n //= 10\n",
    "    return square_sum\n",
    "\n",
    "# Method returns True if n is a Happy number\n",
    "def is_happy_number(n):\n",
    "    # Initialize slow and fast pointers\n",
    "    slow = n\n",
    "    fast = n\n",
    "    \n",
    "    while True:\n",
    "        # Move slow pointer by one iteration\n",
    "        slow = num_square_sum(slow)\n",
    "        \n",
    "        # Move fast pointer by two iterations\n",
    "        fast = num_square_sum(num_square_sum(fast))\n",
    "        \n",
    "        if slow != fast:\n",
    "            continue\n",
    "        else:\n",
    "            break\n",
    "    \n",
    "    # If both pointers meet at 1, then return True\n",
    "    return slow == 1\n",
    "\n",
    "# Driver Code\n",
    "n = 13\n",
    "if is_happy_number(n):\n",
    "    print(n, \"is a Happy number\")\n",
    "else:\n",
    "    print(n, \"is not a Happy number\")\n"
   ]
  },
  {
   "cell_type": "code",
   "execution_count": null,
   "id": "63c7232b-de09-49ec-bc11-91cfa58b8acd",
   "metadata": {},
   "outputs": [],
   "source": []
  },
  {
   "cell_type": "code",
   "execution_count": null,
   "id": "de65a307-478c-4142-9d5d-a6e357623cad",
   "metadata": {},
   "outputs": [],
   "source": []
  }
 ],
 "metadata": {
  "kernelspec": {
   "display_name": "Python 3 (ipykernel)",
   "language": "python",
   "name": "python3"
  },
  "language_info": {
   "codemirror_mode": {
    "name": "ipython",
    "version": 3
   },
   "file_extension": ".py",
   "mimetype": "text/x-python",
   "name": "python",
   "nbconvert_exporter": "python",
   "pygments_lexer": "ipython3",
   "version": "3.12.4"
  }
 },
 "nbformat": 4,
 "nbformat_minor": 5
}
