{
 "cells": [
  {
   "cell_type": "code",
   "execution_count": 1,
   "id": "f4e7463c-31b5-4205-8d94-7ead9cc7ed1e",
   "metadata": {},
   "outputs": [
    {
     "name": "stdin",
     "output_type": "stream",
     "text": [
      "Enter your no 42\n"
     ]
    },
    {
     "name": "stdout",
     "output_type": "stream",
     "text": [
      " Not Prime \n"
     ]
    }
   ],
   "source": [
    "def googly_prime(num):\n",
    "    \n",
    "    result=0\n",
    "    while num>0:\n",
    "        result+=num%10\n",
    "        num=num//10\n",
    "    return isPrime(result) #calling prime function\n",
    "    \n",
    "def isPrime(result):\n",
    "    if result%2==0:\n",
    "        print(\" Not Prime \")\n",
    "    else:\n",
    "        print(\"prime\")\n",
    "\n",
    "num= int(input(\"Enter your no\"))\n",
    "googly_prime(num)\n",
    "\n",
    "\n",
    "\n",
    "        \n",
    "        \n",
    "        "
   ]
  },
  {
   "cell_type": "code",
   "execution_count": null,
   "id": "a0000248-003c-45ff-a2e7-b26b901f926e",
   "metadata": {},
   "outputs": [],
   "source": []
  }
 ],
 "metadata": {
  "kernelspec": {
   "display_name": "Python 3 (ipykernel)",
   "language": "python",
   "name": "python3"
  },
  "language_info": {
   "codemirror_mode": {
    "name": "ipython",
    "version": 3
   },
   "file_extension": ".py",
   "mimetype": "text/x-python",
   "name": "python",
   "nbconvert_exporter": "python",
   "pygments_lexer": "ipython3",
   "version": "3.12.4"
  }
 },
 "nbformat": 4,
 "nbformat_minor": 5
}
