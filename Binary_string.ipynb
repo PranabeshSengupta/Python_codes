{
 "cells": [
  {
   "cell_type": "code",
   "execution_count": 9,
   "id": "8d998837-e77d-4955-8210-7c469ec1ffd1",
   "metadata": {},
   "outputs": [
    {
     "name": "stdin",
     "output_type": "stream",
     "text": [
      "Enter your string 1A1\n"
     ]
    },
    {
     "name": "stdout",
     "output_type": "stream",
     "text": [
      "1\n"
     ]
    }
   ],
   "source": [
    "def binaryOperation(binary_string):\n",
    "    n=len(binary_string)\n",
    "    if n==0:\n",
    "        return -1\n",
    "    ans=binary_string[0]\n",
    "    for i in range(n-1,2):\n",
    "        op=binary_string[i]\n",
    "        b=binary_string[i+1]\n",
    "        if op=='A':\n",
    "            ans&=b # for and operation \n",
    "        elif op=='B':\n",
    "            ans|=b # for or operation\n",
    "        else:\n",
    "            ans^=b # for xor operation\n",
    "    return ans\n",
    "bo=input(\"Enter your string\")\n",
    "result=binaryOperation(bo)\n",
    "print(result)"
   ]
  },
  {
   "cell_type": "code",
   "execution_count": null,
   "id": "e7fadd37-7663-4b7b-9a41-4bf227c0e169",
   "metadata": {},
   "outputs": [],
   "source": []
  }
 ],
 "metadata": {
  "kernelspec": {
   "display_name": "Python 3 (ipykernel)",
   "language": "python",
   "name": "python3"
  },
  "language_info": {
   "codemirror_mode": {
    "name": "ipython",
    "version": 3
   },
   "file_extension": ".py",
   "mimetype": "text/x-python",
   "name": "python",
   "nbconvert_exporter": "python",
   "pygments_lexer": "ipython3",
   "version": "3.12.4"
  }
 },
 "nbformat": 4,
 "nbformat_minor": 5
}
