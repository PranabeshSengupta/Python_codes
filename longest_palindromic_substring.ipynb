{
 "cells": [
  {
   "cell_type": "code",
   "execution_count": 1,
   "id": "700aa1cd-5bdb-4cf2-868a-9d664099bf5c",
   "metadata": {},
   "outputs": [
    {
     "name": "stdout",
     "output_type": "stream",
     "text": [
      "Longest palindromic substring: bab\n"
     ]
    }
   ],
   "source": [
    "def expand_around_center(string, left, right):\n",
    "    # Expand the window as long as the characters match and indices are within bounds\n",
    "    while left >= 0 and right < len(string) and string[left] == string[right]:\n",
    "        left -= 1\n",
    "        right += 1\n",
    "    # Return the palindrome\n",
    "    return string[left + 1:right]\n",
    "\n",
    "def longest_palindromic_substring(string):\n",
    "    longest_palindrome = \"\"\n",
    "    \n",
    "    for i in range(len(string)):\n",
    "        # Odd length palindrome centered at i\n",
    "        palindrome_odd = expand_around_center(string, i, i)\n",
    "        # Even length palindrome centered between i and i + 1\n",
    "        palindrome_even = expand_around_center(string, i, i + 1)\n",
    "        \n",
    "        # Find the longer of the two palindromes\n",
    "        longer_palindrome = palindrome_odd if len(palindrome_odd) > len(palindrome_even) else palindrome_even\n",
    "        \n",
    "        # Update the longest palindrome if a longer one is found\n",
    "        if len(longer_palindrome) > len(longest_palindrome):\n",
    "            longest_palindrome = longer_palindrome\n",
    "    \n",
    "    return longest_palindrome\n",
    "\n",
    "# Example usage\n",
    "string = \"babad\"\n",
    "result = longest_palindromic_substring(string)\n",
    "print(\"Longest palindromic substring:\", result)"
   ]
  },
  {
   "cell_type": "code",
   "execution_count": null,
   "id": "e9465315-742e-4857-8943-2889c2800c72",
   "metadata": {},
   "outputs": [],
   "source": []
  }
 ],
 "metadata": {
  "kernelspec": {
   "display_name": "Python 3 (ipykernel)",
   "language": "python",
   "name": "python3"
  },
  "language_info": {
   "codemirror_mode": {
    "name": "ipython",
    "version": 3
   },
   "file_extension": ".py",
   "mimetype": "text/x-python",
   "name": "python",
   "nbconvert_exporter": "python",
   "pygments_lexer": "ipython3",
   "version": "3.12.4"
  }
 },
 "nbformat": 4,
 "nbformat_minor": 5
}
