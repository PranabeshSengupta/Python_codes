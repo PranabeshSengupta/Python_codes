{
 "cells": [
  {
   "cell_type": "code",
   "execution_count": 19,
   "id": "da383615-dbc6-4c2d-ba28-876af78f7626",
   "metadata": {},
   "outputs": [
    {
     "name": "stdin",
     "output_type": "stream",
     "text": [
      "Enter no of your stairs 2\n"
     ]
    },
    {
     "name": "stdout",
     "output_type": "stream",
     "text": [
      "you have 2 possible way to climb\n"
     ]
    }
   ],
   "source": [
    "# this problem can be solved by fibbonacchi series\n",
    "\n",
    "def climb_stairs(n):\n",
    "    prev1=1\n",
    "    prev2=0\n",
    "    \n",
    "    for i in range(n):\n",
    "        curr=prev1+prev2\n",
    "        prev2=prev1\n",
    "        prev1=curr\n",
    "    return prev1\n",
    "n=int(input(\"Enter no of your stairs\"))\n",
    "x=climb_stairs(n)\n",
    "print(f\"you have {x} possible way to climb\")"
   ]
  },
  {
   "cell_type": "code",
   "execution_count": null,
   "id": "263751de-0ecb-4237-8148-129b503ee4ef",
   "metadata": {},
   "outputs": [],
   "source": []
  }
 ],
 "metadata": {
  "kernelspec": {
   "display_name": "Python 3 (ipykernel)",
   "language": "python",
   "name": "python3"
  },
  "language_info": {
   "codemirror_mode": {
    "name": "ipython",
    "version": 3
   },
   "file_extension": ".py",
   "mimetype": "text/x-python",
   "name": "python",
   "nbconvert_exporter": "python",
   "pygments_lexer": "ipython3",
   "version": "3.12.4"
  }
 },
 "nbformat": 4,
 "nbformat_minor": 5
}
