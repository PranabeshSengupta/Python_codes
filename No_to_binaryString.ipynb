{
 "cells": [
  {
   "cell_type": "code",
   "execution_count": 7,
   "id": "7ba2b5a6-3bb5-428e-85af-012745e26a65",
   "metadata": {},
   "outputs": [
    {
     "name": "stdin",
     "output_type": "stream",
     "text": [
      "Enter your no 2\n"
     ]
    },
    {
     "name": "stdout",
     "output_type": "stream",
     "text": [
      "10\n"
     ]
    }
   ],
   "source": [
    "def to_binary_string(number):\n",
    "    # Handle the special case where the number is 0\n",
    "    if number == 0:\n",
    "        return \"0\"\n",
    "    \n",
    "    binary_string = \"\"\n",
    "    while number > 0:\n",
    "        remainder = number % 2\n",
    "        binary_string = str(remainder) + binary_string\n",
    "        number = number // 2\n",
    "    \n",
    "    return binary_string\n",
    "\n",
    "# Example usage\n",
    "number = int(input(\"Enter your no\"))\n",
    "binary_string = to_binary_string(number)\n",
    "print(binary_string)\n"
   ]
  },
  {
   "cell_type": "code",
   "execution_count": null,
   "id": "3ddc0538-343a-4d71-86b2-5eec5e5ac138",
   "metadata": {},
   "outputs": [],
   "source": []
  }
 ],
 "metadata": {
  "kernelspec": {
   "display_name": "Python 3 (ipykernel)",
   "language": "python",
   "name": "python3"
  },
  "language_info": {
   "codemirror_mode": {
    "name": "ipython",
    "version": 3
   },
   "file_extension": ".py",
   "mimetype": "text/x-python",
   "name": "python",
   "nbconvert_exporter": "python",
   "pygments_lexer": "ipython3",
   "version": "3.12.4"
  }
 },
 "nbformat": 4,
 "nbformat_minor": 5
}
