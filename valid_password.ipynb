{
 "cells": [
  {
   "cell_type": "code",
   "execution_count": 5,
   "id": "617053fa-287c-43b2-8c8f-094db43fde20",
   "metadata": {},
   "outputs": [
    {
     "name": "stdin",
     "output_type": "stream",
     "text": [
      "Enter your password:  raja@2002\n"
     ]
    },
    {
     "name": "stdout",
     "output_type": "stream",
     "text": [
      "0\n"
     ]
    }
   ],
   "source": [
    "def validate_password(password):\n",
    "    # Initialize variables to check different criteria\n",
    "    has_upper = False\n",
    "    has_lower = False\n",
    "    has_digit = False\n",
    "    has_special = False\n",
    "    special_characters = \"!@#$%^&*(),.?\\\":{}|<>\"\n",
    "\n",
    "    # Check for the length of the password\n",
    "    if len(password) < 8:\n",
    "        return \"Password must be at least 8 characters long.\"\n",
    "\n",
    "    # Check each character in the password\n",
    "    for char in password:\n",
    "        if char.isupper():\n",
    "            has_upper = True\n",
    "        elif char.islower():\n",
    "            has_lower = True\n",
    "        elif char.isdigit():\n",
    "            has_digit = True\n",
    "        elif char in special_characters:\n",
    "            has_special = True\n",
    "\n",
    "    # Validate all the criteria\n",
    "    if not has_upper:\n",
    "        return \"Password must contain at least one uppercase letter.\"\n",
    "    if not has_lower:\n",
    "        return \"Password must contain at least one lowercase letter.\"\n",
    "    if not has_digit:\n",
    "        return \"Password must contain at least one digit.\"\n",
    "    if not has_special:\n",
    "        return \"Password must contain at least one special character.\"\n",
    "\n",
    "    return \"Password is valid.\"\n",
    "\n",
    "# Example usage\n",
    "password = input(\"Enter your password: \")\n",
    "result = validate_password(password)\n",
    "print(result)"
   ]
  },
  {
   "cell_type": "code",
   "execution_count": null,
   "id": "37050faa-5d18-4d05-b0e9-785810d32462",
   "metadata": {},
   "outputs": [],
   "source": []
  }
 ],
 "metadata": {
  "kernelspec": {
   "display_name": "Python 3 (ipykernel)",
   "language": "python",
   "name": "python3"
  },
  "language_info": {
   "codemirror_mode": {
    "name": "ipython",
    "version": 3
   },
   "file_extension": ".py",
   "mimetype": "text/x-python",
   "name": "python",
   "nbconvert_exporter": "python",
   "pygments_lexer": "ipython3",
   "version": "3.12.4"
  }
 },
 "nbformat": 4,
 "nbformat_minor": 5
}
