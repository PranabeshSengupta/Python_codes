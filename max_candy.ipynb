{
 "cells": [
  {
   "cell_type": "code",
   "execution_count": 47,
   "id": "34f52eb6-e0d7-4022-8458-7900b5580588",
   "metadata": {},
   "outputs": [
    {
     "name": "stdin",
     "output_type": "stream",
     "text": [
      "Enter your price 10\n",
      " how many item ?? 4\n",
      "Enter your item 10\n",
      "Enter your item 15\n",
      "Enter your item 1\n",
      "Enter your item 2\n"
     ]
    },
    {
     "name": "stdout",
     "output_type": "stream",
     "text": [
      "you can buy maximum 4 candy\n"
     ]
    }
   ],
   "source": [
    "def max_candy(candy_array,price):\n",
    "    count=0\n",
    "    n=len(candy_array)\n",
    "    \n",
    "    for i in range(n) :\n",
    "        if candy_array[i]<price and candy_array[i]%5!=0 :\n",
    "            count+=1\n",
    "            price-=candy_array[i]\n",
    "        if candy_array[i]%5==0:\n",
    "            count+=1   \n",
    "            \n",
    "            \n",
    "        \n",
    "    return count\n",
    "\n",
    "#main.....\n",
    "price=int(input(\"Enter your price\"))\n",
    "l=[]\n",
    "n= int(input(\" how many item ??\"))\n",
    "for i in range(n):\n",
    "    l.append(int(input(\"Enter your item\")))\n",
    "#function calling>>>>\n",
    "l.sort\n",
    "x=max_candy(l,price)\n",
    "print(f\"you can buy maximum {x} candy\")\n"
   ]
  },
  {
   "cell_type": "code",
   "execution_count": null,
   "id": "7333f8ae-8b49-4308-b3e0-034a5c66b3c4",
   "metadata": {},
   "outputs": [],
   "source": []
  }
 ],
 "metadata": {
  "kernelspec": {
   "display_name": "Python 3 (ipykernel)",
   "language": "python",
   "name": "python3"
  },
  "language_info": {
   "codemirror_mode": {
    "name": "ipython",
    "version": 3
   },
   "file_extension": ".py",
   "mimetype": "text/x-python",
   "name": "python",
   "nbconvert_exporter": "python",
   "pygments_lexer": "ipython3",
   "version": "3.12.4"
  }
 },
 "nbformat": 4,
 "nbformat_minor": 5
}
