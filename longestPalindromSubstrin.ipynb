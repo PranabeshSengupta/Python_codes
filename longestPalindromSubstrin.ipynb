{
 "cells": [
  {
   "cell_type": "code",
   "execution_count": 1,
   "id": "4895656b-7213-4477-b223-89a1f23b513e",
   "metadata": {},
   "outputs": [
    {
     "name": "stdout",
     "output_type": "stream",
     "text": [
      "Palindrome substrings: ['a', 'b', 'c', 'cc', 'bccb', 'abccba', 'c', 'b', 'a']\n"
     ]
    }
   ],
   "source": [
    "def expand_around_center(string, left, right):\n",
    "    palindromes = []\n",
    "    # Expand while the characters match and we are within bounds\n",
    "    while left >= 0 and right < len(string) and string[left] == string[right]:\n",
    "        palindromes.append(string[left:right+1])\n",
    "        left -= 1\n",
    "        right += 1\n",
    "    return palindromes\n",
    "\n",
    "def find_palindromic_substrings(string):\n",
    "    palindromes = []\n",
    "    \n",
    "    for i in range(len(string)):\n",
    "        # Find all odd-length palindromes centered at i\n",
    "        palindromes.extend(expand_around_center(string, i, i))\n",
    "        # Find all even-length palindromes centered between i and i+1\n",
    "        palindromes.extend(expand_around_center(string, i, i + 1))\n",
    "    \n",
    "    return palindromes\n",
    "\n",
    "# Example usage\n",
    "string = \"abccba\"\n",
    "palindromes = find_palindromic_substrings(string)\n",
    "print(\"Palindrome substrings:\", palindromes)"
   ]
  },
  {
   "cell_type": "code",
   "execution_count": null,
   "id": "5f135f4e-534c-48f8-9450-dc9bcc1d8718",
   "metadata": {},
   "outputs": [],
   "source": []
  }
 ],
 "metadata": {
  "kernelspec": {
   "display_name": "Python 3 (ipykernel)",
   "language": "python",
   "name": "python3"
  },
  "language_info": {
   "codemirror_mode": {
    "name": "ipython",
    "version": 3
   },
   "file_extension": ".py",
   "mimetype": "text/x-python",
   "name": "python",
   "nbconvert_exporter": "python",
   "pygments_lexer": "ipython3",
   "version": "3.12.4"
  }
 },
 "nbformat": 4,
 "nbformat_minor": 5
}
