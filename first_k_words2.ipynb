{
 "cells": [
  {
   "cell_type": "code",
   "execution_count": 8,
   "id": "be7ced55-6190-4d41-92dd-f11894b085d9",
   "metadata": {},
   "outputs": [
    {
     "name": "stdout",
     "output_type": "stream",
     "text": [
      "<class 'list'>\n",
      "This is a simple\n"
     ]
    }
   ],
   "source": [
    "def first_k_words(s, k):\n",
    "    words = []\n",
    "    \n",
    "    word = \"\"\n",
    "    count = 0\n",
    "    \n",
    "    for char in s:\n",
    "        if char == ' ':\n",
    "            if word:  # If the word is not empty\n",
    "                words.append(word)\n",
    "                word = \"\"\n",
    "                count += 1\n",
    "                if count == k:  # Stop after getting k words\n",
    "                    break\n",
    "        else:\n",
    "            word += char\n",
    "    \n",
    "    # To account for the last word if the string doesn't end with a space\n",
    "    if word and count < k:\n",
    "        words.append(word)\n",
    "    \n",
    "    # Join the first k words back into a string\n",
    "    result = \"\"\n",
    "    for i in range(len(words)):\n",
    "        result += words[i]\n",
    "        if i < len(words) - 1:\n",
    "            result += \" \"\n",
    "    \n",
    "    return result\n",
    "\n",
    "# Example usage:\n",
    "string = \"This is a simple test string for demonstration\"\n",
    "k = 4\n",
    "result = first_k_words(string, k)\n",
    "print(result)"
   ]
  },
  {
   "cell_type": "code",
   "execution_count": null,
   "id": "1172598d-dca7-45b1-b733-cb329bf16ea3",
   "metadata": {},
   "outputs": [],
   "source": []
  },
  {
   "cell_type": "code",
   "execution_count": null,
   "id": "2f136d13-2599-4735-9e22-b204006e53cc",
   "metadata": {},
   "outputs": [],
   "source": []
  }
 ],
 "metadata": {
  "kernelspec": {
   "display_name": "Python 3 (ipykernel)",
   "language": "python",
   "name": "python3"
  },
  "language_info": {
   "codemirror_mode": {
    "name": "ipython",
    "version": 3
   },
   "file_extension": ".py",
   "mimetype": "text/x-python",
   "name": "python",
   "nbconvert_exporter": "python",
   "pygments_lexer": "ipython3",
   "version": "3.12.4"
  }
 },
 "nbformat": 4,
 "nbformat_minor": 5
}
