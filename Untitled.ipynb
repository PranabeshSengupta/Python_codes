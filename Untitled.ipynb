{
 "cells": [
  {
   "cell_type": "code",
   "execution_count": 23,
   "id": "d044fe8e-92cb-4747-bace-b455f594e8ae",
   "metadata": {},
   "outputs": [
    {
     "name": "stdin",
     "output_type": "stream",
     "text": [
      "Enter your item no 7\n",
      "Enter your capacity 15\n"
     ]
    },
    {
     "ename": "IndexError",
     "evalue": "list assignment index out of range",
     "output_type": "error",
     "traceback": [
      "\u001b[1;31m---------------------------------------------------------------------------\u001b[0m",
      "\u001b[1;31mIndexError\u001b[0m                                Traceback (most recent call last)",
      "Cell \u001b[1;32mIn[23], line 38\u001b[0m\n\u001b[0;32m     36\u001b[0m n\u001b[38;5;241m=\u001b[39m\u001b[38;5;28mint\u001b[39m(\u001b[38;5;28minput\u001b[39m(\u001b[38;5;124m\"\u001b[39m\u001b[38;5;124mEnter your item no\u001b[39m\u001b[38;5;124m\"\u001b[39m))\n\u001b[0;32m     37\u001b[0m capacity\u001b[38;5;241m=\u001b[39m\u001b[38;5;28mint\u001b[39m(\u001b[38;5;28minput\u001b[39m(\u001b[38;5;124m\"\u001b[39m\u001b[38;5;124mEnter your capacity\u001b[39m\u001b[38;5;124m\"\u001b[39m))\n\u001b[1;32m---> 38\u001b[0m x\u001b[38;5;241m=\u001b[39mknapsack(n,profit,weight,capacity)\n",
      "Cell \u001b[1;32mIn[23], line 6\u001b[0m, in \u001b[0;36mknapsack\u001b[1;34m(n, profit, weight, capacity)\u001b[0m\n\u001b[0;32m      4\u001b[0m \u001b[38;5;66;03m#ratio calculation\u001b[39;00m\n\u001b[0;32m      5\u001b[0m \u001b[38;5;28;01mfor\u001b[39;00m i \u001b[38;5;129;01min\u001b[39;00m \u001b[38;5;28mrange\u001b[39m(n):\n\u001b[1;32m----> 6\u001b[0m     ratio[i]\u001b[38;5;241m=\u001b[39mprofit[i]\u001b[38;5;241m/\u001b[39mweight[i]\n\u001b[0;32m      8\u001b[0m \u001b[38;5;66;03m#sorting\u001b[39;00m\n\u001b[0;32m      9\u001b[0m \u001b[38;5;28;01mfor\u001b[39;00m i \u001b[38;5;129;01min\u001b[39;00m \u001b[38;5;28mrange\u001b[39m(n):\n",
      "\u001b[1;31mIndexError\u001b[0m: list assignment index out of range"
     ]
    }
   ],
   "source": [
    "def knapsack(n,profit,weight,capacity):\n",
    "    totalvalue=0\n",
    "    ratio=[]\n",
    "    #ratio calculation\n",
    "    for i in range(n):\n",
    "        ratio[i]=profit[i]/weight[i]\n",
    "\n",
    "    #sorting\n",
    "    for i in range(n):\n",
    "        for j in range(i+1,n):\n",
    "            if ratio[i]<ratio[j]:\n",
    "                ratio[i],ratio[j]=ratio[j],ratio[i]\n",
    "                weight[i],weight[j]=weight[j],weight[i]\n",
    "                profit[i],profit[j]=profit[j],profit[i]\n",
    "\n",
    "\n",
    "\n",
    "\n",
    "    #calculating maximum profit\n",
    "    for i in range(n):\n",
    "        if weight[i]>capacity:\n",
    "            break\n",
    "        else:\n",
    "            totalvalue=totalvalue+profit[i]\n",
    "            capacity=capacity-weight[i]\n",
    "\n",
    "    if i<n:\n",
    "        totalvalue=totalvalue+ratio[i]*capacity\n",
    "\n",
    "    return totalvalue\n",
    "\n",
    "\n",
    "\n",
    "profit=[5,10,15,7,8,9,4]\n",
    "weight=[1,3,5,4,1,3,2]\n",
    "n=int(input(\"Enter your item no\"))\n",
    "capacity=int(input(\"Enter your capacity\"))\n",
    "x=knapsack(n,profit,weight,capacity)\n",
    "            \n",
    "             \n",
    "             \n",
    "\n",
    "      \n",
    "             \n",
    "         \n",
    "    "
   ]
  },
  {
   "cell_type": "code",
   "execution_count": null,
   "id": "efa25ce8-436a-4ac2-a666-8ec7ea7fa208",
   "metadata": {},
   "outputs": [],
   "source": []
  }
 ],
 "metadata": {
  "kernelspec": {
   "display_name": "Python 3 (ipykernel)",
   "language": "python",
   "name": "python3"
  },
  "language_info": {
   "codemirror_mode": {
    "name": "ipython",
    "version": 3
   },
   "file_extension": ".py",
   "mimetype": "text/x-python",
   "name": "python",
   "nbconvert_exporter": "python",
   "pygments_lexer": "ipython3",
   "version": "3.12.4"
  }
 },
 "nbformat": 4,
 "nbformat_minor": 5
}
