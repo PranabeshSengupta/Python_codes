{
 "cells": [
  {
   "cell_type": "code",
   "execution_count": null,
   "id": "cac38d04-bd4e-4b1b-92e5-f347dd005b0b",
   "metadata": {},
   "outputs": [],
   "source": [
    "def first_k_words(s, k):\n",
    "    # Split the string into words\n",
    "    words = s.split()\n",
    "    \n",
    "    # Return the first k words joined by space\n",
    "    return ' '.join(words[:k])\n",
    "\n",
    "# Example usage:\n",
    "string = \"This is a simple test string for demonstration\"\n",
    "k = 4\n",
    "result = first_k_words(string, k)\n",
    "print(result)"
   ]
  }
 ],
 "metadata": {
  "kernelspec": {
   "display_name": "Python 3 (ipykernel)",
   "language": "python",
   "name": "python3"
  },
  "language_info": {
   "codemirror_mode": {
    "name": "ipython",
    "version": 3
   },
   "file_extension": ".py",
   "mimetype": "text/x-python",
   "name": "python",
   "nbconvert_exporter": "python",
   "pygments_lexer": "ipython3",
   "version": "3.12.4"
  }
 },
 "nbformat": 4,
 "nbformat_minor": 5
}
