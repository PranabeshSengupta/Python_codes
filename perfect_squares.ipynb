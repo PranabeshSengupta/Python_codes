{
 "cells": [
  {
   "cell_type": "code",
   "execution_count": null,
   "id": "dfde4046-20b5-4925-a877-dcc4162536af",
   "metadata": {},
   "outputs": [],
   "source": [
    "import math\n",
    "\n",
    "def numSquares(n):\n",
    "    # Step 1: Create a DP array and initialize it with a large value\n",
    "    dp = [float('inf')] * (n + 1)\n",
    "    \n",
    "    # Base case: 0 is the sum of 0 perfect squares\n",
    "    dp[0] = 0\n",
    "    \n",
    "    # Step 2: Loop through all numbers from 1 to n\n",
    "    for i in range(1, n + 1):\n",
    "        # Try every square number less than or equal to i\n",
    "        j = 1\n",
    "        while j * j <= i:\n",
    "            dp[i] = min(dp[i], dp[i - j * j] + 1)\n",
    "            j += 1\n",
    "    \n",
    "    return dp[n]\n",
    "\n",
    "# Test cases\n",
    "print(numSquares(12))  # Output: 3 (12 = 4 + 4 + 4)\n",
    "print(numSquares(13))  # Output: 2 (13 = 4 + 9)\n",
    "print(numSquares(17))  # Output: 2 (17 = 16 + 1)"
   ]
  }
 ],
 "metadata": {
  "kernelspec": {
   "display_name": "Python 3 (ipykernel)",
   "language": "python",
   "name": "python3"
  },
  "language_info": {
   "codemirror_mode": {
    "name": "ipython",
    "version": 3
   },
   "file_extension": ".py",
   "mimetype": "text/x-python",
   "name": "python",
   "nbconvert_exporter": "python",
   "pygments_lexer": "ipython3",
   "version": "3.12.4"
  }
 },
 "nbformat": 4,
 "nbformat_minor": 5
}
