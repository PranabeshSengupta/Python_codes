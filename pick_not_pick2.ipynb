{
 "cells": [
  {
   "cell_type": "code",
   "execution_count": 3,
   "id": "ea3831f4-a521-44b3-9009-22b58079dad2",
   "metadata": {},
   "outputs": [
    {
     "name": "stdout",
     "output_type": "stream",
     "text": [
      "[1, 1, 1, 1, 1, 1, 1, 1]\n",
      "5\n"
     ]
    }
   ],
   "source": [
    "#Steps:\n",
    "# 1. *Initialize* a DP array (dp) of the same size as the input array (arr),\n",
    "                #where dp[i] represents the length of the longest subsequence ending at index i.\n",
    "# 2. Set dp[i] = 1 for all i, since every single element is a subsequence of length 1 by itself.\n",
    "# 3. *Iterate* through each element and check for any previous element that is exactly one-third of the current element.\n",
    "# 4. If such an element exists, update the dp value for the current element to be one more than \n",
    "                     #the dp value of that previous element.\n",
    "# 5. The maximum value in the dp array will be the length of the longest subsequence.\n",
    "\n",
    "\n",
    "\n",
    "\n",
    "def longest_subsequence(arr):\n",
    "    n = len(arr)\n",
    "    dp = [1] * n  # Initialize DP array\n",
    "    \n",
    "\n",
    "    for i in range(1, n):\n",
    "        for j in range(i):\n",
    "            if arr[i] == 3 * arr[j]:\n",
    "                dp[i] = max(dp[i], dp[j] + 1)\n",
    "    \n",
    "    return max(dp)  # The length of the longest subsequence\n",
    "\n",
    "# Example usage\n",
    "arr = [1, 3, 9, 27, 81, 2, 6, 18]\n",
    "print(longest_subsequence(arr))  # Output: 5 (subsequence: [1, 3, 9, 27, 81])"
   ]
  },
  {
   "cell_type": "code",
   "execution_count": null,
   "id": "611a55e9-4dd6-4de6-ba2f-f4db65061b44",
   "metadata": {},
   "outputs": [],
   "source": []
  }
 ],
 "metadata": {
  "kernelspec": {
   "display_name": "Python 3 (ipykernel)",
   "language": "python",
   "name": "python3"
  },
  "language_info": {
   "codemirror_mode": {
    "name": "ipython",
    "version": 3
   },
   "file_extension": ".py",
   "mimetype": "text/x-python",
   "name": "python",
   "nbconvert_exporter": "python",
   "pygments_lexer": "ipython3",
   "version": "3.12.4"
  }
 },
 "nbformat": 4,
 "nbformat_minor": 5
}
