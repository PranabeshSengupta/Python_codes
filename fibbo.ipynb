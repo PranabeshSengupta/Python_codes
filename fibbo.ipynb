{
 "cells": [
  {
   "cell_type": "code",
   "execution_count": 37,
   "id": "751b1da2-cc7f-4a65-b7a6-c0d063acf735",
   "metadata": {},
   "outputs": [
    {
     "name": "stdin",
     "output_type": "stream",
     "text": [
      "Enter your no 7\n"
     ]
    },
    {
     "data": {
      "text/plain": [
       "13"
      ]
     },
     "execution_count": 37,
     "metadata": {},
     "output_type": "execute_result"
    }
   ],
   "source": [
    "def fibbo(n):\n",
    "    prev1=1\n",
    "    prev2=0\n",
    "    if n==0 or n==1:\n",
    "        return n\n",
    "    for i in range(2,n+1):\n",
    "        curr=prev1+prev2\n",
    "        prev2=prev1\n",
    "        prev1=curr\n",
    "    return prev1\n",
    "\n",
    "#calling......\n",
    "n=int(input(\"Enter your no\"))\n",
    "fibbo(n)"
   ]
  },
  {
   "cell_type": "code",
   "execution_count": null,
   "id": "d966ec94-30f0-41ba-8d3b-c2697c66864e",
   "metadata": {},
   "outputs": [],
   "source": []
  }
 ],
 "metadata": {
  "kernelspec": {
   "display_name": "Python 3 (ipykernel)",
   "language": "python",
   "name": "python3"
  },
  "language_info": {
   "codemirror_mode": {
    "name": "ipython",
    "version": 3
   },
   "file_extension": ".py",
   "mimetype": "text/x-python",
   "name": "python",
   "nbconvert_exporter": "python",
   "pygments_lexer": "ipython3",
   "version": "3.12.4"
  }
 },
 "nbformat": 4,
 "nbformat_minor": 5
}
